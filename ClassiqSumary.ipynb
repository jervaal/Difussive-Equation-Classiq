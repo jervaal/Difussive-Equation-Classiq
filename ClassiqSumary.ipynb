{
 "cells": [
  {
   "cell_type": "markdown",
   "metadata": {},
   "source": [
    "# Advanced Quantum Algorithms in Practice with Classiq\n",
    "\n",
    "When we work on classical algorithm development, let's say in Python, we use high-level languages. This code can be translated to low-level languages, for example, assembly.  \n",
    "\n",
    "In quantum computing, when we work on quantum algorithm development, most of the time we see the circuit implementation. This is exactly like assembly. A quantum circuit is the lowest level that we implement on the quantum computer (this information is mentioned in the video; I think working directly with pulses is even lower-level). On the other hand, we have the design of a quantum algorithm (high-level languages), and that's what we really want to do.\n",
    "\n",
    "## What, Why, and How Classiq?\n",
    "\n",
    "Classiq is a software platform that enables the design, optimization, analysis, and execution of quantum algorithms by utilizing the high-level functional design paradigm.\n",
    "\n",
    "There are two interfaces. There's an IDE, a web-based interface [platform.classiq.io](https://platform.classiq.io/) (honestly, the page is quite good), and in addition, they have a Python SDK package (`from classiq import *`).\n"
   ]
  },
  {
   "cell_type": "markdown",
   "metadata": {},
   "source": [
    "## Desing of novel Quantum Algorithms with Classiq"
   ]
  },
  {
   "cell_type": "code",
   "execution_count": null,
   "metadata": {},
   "outputs": [],
   "source": [
    "#First, install dependeces\n",
    "\n",
    "#!pip install classiq"
   ]
  },
  {
   "cell_type": "markdown",
   "metadata": {},
   "source": [
    "Para preparar un estado en Classiq, se puede resumir en los siguientes paso:\n",
    "\n",
    "- Definir el entorno de la funcón usando el decorador `@qfunc`\n",
    "- Definir la función cuantica que preparará el estado\n",
    "- Asignar los Qubits que se utilizarán, esto usando `allocate`\n",
    "- Aplicar las operaciones cuanticas\n",
    "\n",
    "Por ejemplo el estado $|-\\rangle$ se prepara usando la siguiente función"
   ]
  },
  {
   "cell_type": "code",
   "execution_count": 17,
   "metadata": {},
   "outputs": [],
   "source": [
    "from classiq import H, Output, QBit, X, allocate, qfunc, authenticate, CX\n",
    "\n",
    "#Esta funcion prepara el estado |->:\n",
    "\n",
    "@qfunc #decorador que indica que esta función es cuántica\n",
    "def prepare_minus(target: Output[QBit]): \n",
    "    allocate(out=target, num_qubits=1) #Reserva un qubit en el circuito y lo asigna al destino (target)\n",
    "    X(target) # Aplica la compuerta X al estado en target\n",
    "    H(target) # Aplica la compuerta H al qubit en target"
   ]
  },
  {
   "cell_type": "markdown",
   "metadata": {},
   "source": [
    "Para ver el estado debemos definir una función `main` la cual será luego usada para crear el modelo a ejecutar usando la función `create_model` y luego sinthetizarla usando `synthesize`. Pero primero debemos aunteticarnos"
   ]
  },
  {
   "cell_type": "code",
   "execution_count": 2,
   "metadata": {},
   "outputs": [
    {
     "name": "stderr",
     "output_type": "stream",
     "text": [
      "c:\\Users\\Lenovo\\OneDrive\\Desktop\\computacion cuantica\\Proyecto_Classiq\\Classiq\\Lib\\site-packages\\classiq\\_internals\\authentication\\token_manager.py:93: UserWarning: Overwriting an existing refresh token should only be done if it is compromised. Make sure this operation is necessary, and if not, remove the call to device registration.\n",
      "  warnings.warn(\n"
     ]
    },
    {
     "name": "stdout",
     "output_type": "stream",
     "text": [
      "Your user code: CPFM-MQDN\n",
      "If a browser doesn't automatically open, please visit this URL from any trusted device: https://auth.classiq.io/activate?user_code=CPFM-MQDN\n"
     ]
    }
   ],
   "source": [
    "authenticate(overwrite=True)"
   ]
  },
  {
   "cell_type": "code",
   "execution_count": 3,
   "metadata": {},
   "outputs": [
    {
     "name": "stdout",
     "output_type": "stream",
     "text": [
      "Opening: https://platform.classiq.io/circuit/497f0485-7e65-49b6-8afb-869b4cee4272?version=0.58.1\n"
     ]
    }
   ],
   "source": [
    "from classiq import create_model, hadamard_transform, show, synthesize, QNum\n",
    "\n",
    "@qfunc\n",
    "def main(x: Output[QNum]):\n",
    "    prepare_minus(x)\n",
    "\n",
    "\n",
    "qmod = create_model(main)\n",
    "qprog = synthesize(qmod)\n",
    "show(qprog)"
   ]
  },
  {
   "cell_type": "markdown",
   "metadata": {},
   "source": [
    "Ahora prepararé el estado GHZ = $\\frac{1}{\\sqrt 2}(|000\\rangle + |111\\rangle)$"
   ]
  },
  {
   "cell_type": "code",
   "execution_count": 12,
   "metadata": {},
   "outputs": [
    {
     "data": {
      "text/plain": [
       "[{'reg': [0, 0, 0]}: 1057, {'reg': [1, 1, 1]}: 991]"
      ]
     },
     "metadata": {},
     "output_type": "display_data"
    },
    {
     "name": "stdout",
     "output_type": "stream",
     "text": [
      "Opening: https://platform.classiq.io/circuit/99f9cf59-d9ff-4f6b-8d47-1ee486214553?version=0.58.1\n"
     ]
    }
   ],
   "source": [
    "from classiq import QArray, repeat, execute\n",
    "\n",
    "\n",
    "@qfunc\n",
    "def main(reg: Output[QArray]):\n",
    "    allocate(3, reg)\n",
    "    H(reg[0])\n",
    "    repeat(\n",
    "        count=reg.len - 1,\n",
    "        iteration=lambda index: CX(ctrl=reg[index], target=reg[index + 1]),\n",
    "    )\n",
    "\n",
    "\n",
    "qprog = synthesize(create_model(main))\n",
    "\n",
    "job = execute(qprog)\n",
    "results = job.result()[0].value.parsed_counts\n",
    "display(results)\n",
    "\n",
    "#Para ver el resultado en la pagina oficial \n",
    "\n",
    "show(qprog)"
   ]
  },
  {
   "cell_type": "markdown",
   "metadata": {},
   "source": [
    "# Suzuki-Trotter Approximation in Quantum Computing\n",
    "\n",
    "## Context\n",
    "The **Suzuki-Trotter approximation** is a method used to simulate the time evolution of a quantum system governed by a Hamiltonian $ H $. The time evolution is described by:\n",
    "$$\n",
    "U(t) = e^{-i H t},\n",
    "$$\n",
    "where:\n",
    "- $ H $ is the Hamiltonian.\n",
    "- $ t $ is the evolution time.\n",
    "\n",
    "If the Hamiltonian can be decomposed into multiple non-commuting terms:\n",
    "$$\n",
    "H = H_1 + H_2 + \\dots + H_k,\n",
    "$$\n",
    "direct computation of $ e^{-i H t} $ becomes challenging because $ e^{-i (H_1 + H_2) t} \\neq e^{-i H_1 t} e^{-i H_2 t} $ when $ [H_1, H_2] \\neq 0 $.\n",
    "\n",
    "---\n",
    "\n",
    "## Suzuki-Trotter Decomposition\n",
    "\n",
    "### First-Order Approximation\n",
    "The evolution operator can be approximated as:\n",
    "$$\n",
    "e^{-i H t} \\approx \\left( e^{-i H_1 \\Delta t} e^{-i H_2 \\Delta t} \\right)^N,\n",
    "$$\n",
    "where:\n",
    "- $ \\Delta t = \\frac{t}{N} $ is a small time step.\n",
    "- $ N $ is the number of steps.\n",
    "\n",
    "### Second-Order Approximation\n",
    "To improve accuracy, a higher-order approximation is used:\n",
    "$$\n",
    "e^{-i H t} \\approx \\left( e^{-i H_1 \\Delta t / 2} e^{-i H_2 \\Delta t} e^{-i H_1 \\Delta t / 2} \\right)^N.\n",
    "$$\n",
    "\n",
    "---\n",
    "\n",
    "## Application in Quantum Computing\n",
    "\n",
    "### Steps:\n",
    "1. **Decompose the Hamiltonian**:\n",
    "   Identify the terms $ H_1, H_2, \\dots, H_k $ in the Hamiltonian.\n",
    "\n",
    "2. **Implement $ e^{-i H_i \\Delta t} $**:\n",
    "   Each term $ e^{-i H_i \\Delta t} $ is implemented as a series of quantum gates.\n",
    "\n",
    "3. **Iterate**:\n",
    "   Use the Suzuki-Trotter approximation to construct $ e^{-i H t} $ from the smaller steps $ \\Delta t $.\n",
    "\n",
    "---\n",
    "\n",
    "## Example: Spin Chain Hamiltonian\n",
    "\n",
    "For a Hamiltonian:\n",
    "$$\n",
    "H = J \\sum_{i} Z_i Z_{i+1} + h \\sum_{i} X_i,\n",
    "$$\n",
    "we decompose:\n",
    "$$\n",
    "H_1 = J \\sum_{i} Z_i Z_{i+1}, \\quad H_2 = h \\sum_{i} X_i.\n",
    "$$\n",
    "Using the first-order Suzuki-Trotter approximation:\n",
    "$$\n",
    "e^{-i H t} \\approx \\left( e^{-i H_1 \\Delta t} e^{-i H_2 \\Delta t} \\right)^N.\n",
    "$$\n",
    "\n",
    "---\n",
    "\n",
    "## Advantages and Limitations\n",
    "\n",
    "### Advantages:\n",
    "- **Flexible**: Allows simulation of complex systems using simple gates.\n",
    "- **Scalable**: Increasing $ N $ improves the accuracy.\n",
    "\n",
    "### Limitations:\n",
    "- **Truncation Errors**: Errors depend on $ \\Delta t $ and the order of the approximation.\n",
    "- **Cost**: Higher precision requires more quantum gates.\n",
    "\n",
    "---\n",
    "\n",
    "## Summary\n",
    "\n",
    "The Suzuki-Trotter approximation is a foundational tool for simulating Hamiltonian dynamics in quantum computing, enabling decomposition of complex systems into manageable components. However, it requires careful trade-offs between precision and computational cost.\n"
   ]
  },
  {
   "cell_type": "code",
   "execution_count": null,
   "metadata": {},
   "outputs": [],
   "source": [
    "from classiq import *\n",
    "\n",
    "\n",
    "@qfunc\n",
    "def main(a: CReal, x: CReal, qba: Output[QArray[QBit]]):\n",
    "    allocate(3, qba)\n",
    "    suzuki_trotter(\n",
    "        [\n",
    "            PauliTerm(pauli=[Pauli.X, Pauli.X, Pauli.Z], coefficient=a),\n",
    "            PauliTerm(pauli=[Pauli.Y, Pauli.X, Pauli.Z], coefficient=0.5),\n",
    "        ],\n",
    "        evolution_coefficient=x, #controla el tiempo  de evoluvión\n",
    "        order=1, #El porden de la aproxx\n",
    "        repetitions=1, # corresponde al N \n",
    "        qbv=qba, # registro cuatico de qbits\n",
    "    )\n",
    "\n",
    "\n",
    "qmod = create_model(main, out_file=\"suzuki_trotter\")\n",
    "qprog = synthesize(qmod)\n",
    "#show(qprog)"
   ]
  },
  {
   "cell_type": "markdown",
   "metadata": {},
   "source": [
    "En el caso anterior, el código está aproximando el siguiente hamiltoniano:\n",
    "\n",
    "$$\n",
    "H = a\\cdot(X\\otimes X\\otimes Z)+ 0.5\\cdot(Y\\otimes X \\otimes Z)\n",
    "$$\n",
    "\n",
    "Y su aproximación es la siguiente:\n",
    "\n",
    "$$\n",
    "U(t)\\approx e^{-iat((X\\otimes X\\otimes Z))} + e^{-i(0.5t)(Y\\otimes X \\otimes Z)}\n",
    "$$\n"
   ]
  }
 ],
 "metadata": {
  "kernelspec": {
   "display_name": "Classiq",
   "language": "python",
   "name": "python3"
  },
  "language_info": {
   "codemirror_mode": {
    "name": "ipython",
    "version": 3
   },
   "file_extension": ".py",
   "mimetype": "text/x-python",
   "name": "python",
   "nbconvert_exporter": "python",
   "pygments_lexer": "ipython3",
   "version": "3.11.2"
  }
 },
 "nbformat": 4,
 "nbformat_minor": 2
}
