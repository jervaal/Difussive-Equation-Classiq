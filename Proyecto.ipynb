{
 "cells": [
  {
   "cell_type": "markdown",
   "metadata": {},
   "source": [
    "# $S^{-}$ and $S^{+}$ Implementation\n",
    "\n",
    "$$\n",
    "S^{-} := \\sum_{j=1}^n I^{\\otimes(n-j)}\\otimes\\sigma_{01}\\otimes\\sigma_{10}^{\\otimes(j-1)}\n",
    "$$\n",
    "\n",
    "$$\n",
    "S^{+} := (S^-)^\\dag = \\sum_{j=1}^n I^{\\otimes(n-j)}\\otimes\\sigma_{10}\\otimes\\sigma_{01}^{\\otimes(j-1)}\n",
    "$$"
   ]
  },
  {
   "cell_type": "markdown",
   "metadata": {},
   "source": [
    "Primero se definirá las matrices sigmas y la identidad:"
   ]
  },
  {
   "cell_type": "code",
   "execution_count": 5,
   "metadata": {},
   "outputs": [],
   "source": [
    "import numpy as np\n",
    "\n",
    "# Define matrix sigma01\n",
    "sigma_01 = np.array(\n",
    "    [\n",
    "        [0, 1],\n",
    "        [0,0]\n",
    "    ]\n",
    ")\n",
    "\n",
    "#define matrix sigma10\n",
    "sigma_10 = np.array(\n",
    "    [\n",
    "        [0, 0],\n",
    "        [1,0]\n",
    "    ]\n",
    ")\n",
    "\n",
    "#define identity\n",
    "identity = np.array(\n",
    "    [\n",
    "        [1, 0],\n",
    "        [0,1]\n",
    "    ]\n",
    ")\n"
   ]
  },
  {
   "cell_type": "markdown",
   "metadata": {},
   "source": [
    "Classiq tiene una función que pasa de matrices de formato `np.array` a hamiltoniano (Justo es lo que necesitamos). Entonces definiré el operador completo usando funciones que ofrece numpy"
   ]
  },
  {
   "cell_type": "code",
   "execution_count": 11,
   "metadata": {},
   "outputs": [
    {
     "name": "stdout",
     "output_type": "stream",
     "text": [
      "Operador S^- (n = 1):\n",
      "[[0.+0.j 1.+0.j]\n",
      " [0.+0.j 0.+0.j]]\n",
      "\n",
      "Tipo de dato: <class 'numpy.ndarray'>\n"
     ]
    }
   ],
   "source": [
    "import numpy as np\n",
    "\n",
    "def construct_s_minus(n):\n",
    "    \"\"\"\n",
    "    Construye el operador S^- para n qubits.\n",
    "    \n",
    "    Args:\n",
    "        n (int): Número de qubits.\n",
    "    \n",
    "    Returns:\n",
    "        np.array: Matriz del operador S^- en el espacio de Hilbert de n qubits.\n",
    "    \"\"\"\n",
    "    dim = 2 ** n  # Dimensión del espacio de Hilbert\n",
    "    s_minus = np.zeros((dim, dim), dtype=complex)  # Inicializar el operador en ceros\n",
    "\n",
    "    # Sumar los términos de la definición\n",
    "    for j in range(1, n + 1):\n",
    "        # Construir las partes del producto tensorial\n",
    "        if n - j > 0:\n",
    "            left_identity = np.eye(2 ** (n - j))\n",
    "        else:\n",
    "            left_identity = 1  # Escalar cuando no hay identidad a la izquierda\n",
    "\n",
    "        if j - 1 > 0:\n",
    "            right_sigma_10 = sigma_10\n",
    "            for _ in range(j - 2):  # Hacer producto tensorial de σ_{10}^{⊗(j-1)}\n",
    "                right_sigma_10 = np.kron(right_sigma_10, sigma_10)\n",
    "        else:\n",
    "            right_sigma_10 = 1  # Escalar cuando no hay σ_{10} a la derecha\n",
    "\n",
    "        # Término tensorial: I^{\\otimes(n-j)} ⊗ σ_{01} ⊗ σ_{10}^{⊗(j-1)}\n",
    "        term = np.kron(\n",
    "            np.kron(left_identity, sigma_01),\n",
    "            right_sigma_10\n",
    "        )\n",
    "\n",
    "        # Sumar este término al operador S^-\n",
    "        s_minus += term\n",
    "\n",
    "    return s_minus\n",
    "\n",
    "# Ejemplo: Construir el operador S^- para n = 1 (deberia dar sigma 01)\n",
    "n = 1\n",
    "s_minus_operator = construct_s_minus(n)\n",
    "\n",
    "# Mostrar el resultado\n",
    "print(\"Operador S^- (n = {}):\".format(n))\n",
    "print(s_minus_operator)\n",
    "\n",
    "# Verificar el tipo de dato\n",
    "print(\"\\nTipo de dato:\", type(s_minus_operator))\n"
   ]
  },
  {
   "cell_type": "markdown",
   "metadata": {},
   "source": [
    "Ahora defeniré los operadores:\n",
    "\n",
    "$$\n",
    "D_D^\\pm = \\frac{1}{2l}(S^--S^+)\n",
    "$$"
   ]
  },
  {
   "cell_type": "code",
   "execution_count": 36,
   "metadata": {},
   "outputs": [
    {
     "name": "stdout",
     "output_type": "stream",
     "text": [
      "Operador D (n = 1):\n",
      "[[ 0. +0.j  0.5+0.j]\n",
      " [-0.5+0.j  0. +0.j]]\n",
      "\n",
      "Tipo de dato: <class 'numpy.ndarray'>\n"
     ]
    }
   ],
   "source": [
    "def construct_D_operator(n, l):\n",
    "    \"\"\"\n",
    "    Construye el operador D_D para n qubits.\n",
    "    \n",
    "    Args:\n",
    "        n (int): Número de qubits.\n",
    "        l (int): Número intervalos\n",
    "    \n",
    "    Returns:\n",
    "        np.array: Matriz del operador D en el espacio de Hilbert de n qubits.\n",
    "    \"\"\"\n",
    "    dim = 2 ** n  # Dimensión del espacio de Hilbert\n",
    "    D_operator = np.zeros((dim, dim), dtype=complex)  # Inicializar el operador en ceros\n",
    "\n",
    "    # Creamos el operador S_minus y S_plus\n",
    "    S_minus = construct_s_minus(n)\n",
    "    S_plus = S_minus.conj().T\n",
    "\n",
    "    # Sumar los términos de la definición\n",
    "    D_operator += (1/(2*l)) * ( S_minus - S_plus)\n",
    "\n",
    "    return D_operator\n",
    "\n",
    "# Ejemplo: Construir el operador D para n = 1, l = 1(deberia dar (sigma 01 - sigma10)/2\n",
    "n = 1\n",
    "l = 1\n",
    "D_operator = construct_D_operator(n=n,l=1)\n",
    "\n",
    "# Mostrar el resultado\n",
    "print(\"Operador D (n = {}):\".format(n))\n",
    "print(D_operator)\n",
    "\n",
    "# Verificar el tipo de dato\n",
    "print(\"\\nTipo de dato:\", type(s_minus_operator))"
   ]
  },
  {
   "cell_type": "markdown",
   "metadata": {},
   "source": [
    "La función que pasa de matrices a hamiltonianos en Classiq es `matrix_to_hamiltonian`, realmente nose como funciona pero recomiendo usarla como caja negra"
   ]
  },
  {
   "cell_type": "code",
   "execution_count": 18,
   "metadata": {},
   "outputs": [
    {
     "name": "stderr",
     "output_type": "stream",
     "text": [
      "c:\\Users\\Lenovo\\OneDrive\\Desktop\\computacion cuantica\\Proyecto_Classiq\\Classiq\\Lib\\site-packages\\classiq\\_internals\\authentication\\token_manager.py:93: UserWarning: Overwriting an existing refresh token should only be done if it is compromised. Make sure this operation is necessary, and if not, remove the call to device registration.\n",
      "  warnings.warn(\n"
     ]
    },
    {
     "name": "stdout",
     "output_type": "stream",
     "text": [
      "Your user code: NVZP-JXRV\n",
      "If a browser doesn't automatically open, please visit this URL from any trusted device: https://auth.classiq.io/activate?user_code=NVZP-JXRV\n"
     ]
    }
   ],
   "source": [
    "authenticate(overwrite=True)"
   ]
  },
  {
   "cell_type": "code",
   "execution_count": null,
   "metadata": {},
   "outputs": [
    {
     "data": {
      "text/plain": [
       "[PauliTerm(pauli=[<Pauli.I: 0>, <Pauli.X: 1>], coefficient=(0.5+0j)),\n",
       " PauliTerm(pauli=[<Pauli.I: 0>, <Pauli.Y: 2>], coefficient=0.5j),\n",
       " PauliTerm(pauli=[<Pauli.X: 1>, <Pauli.X: 1>], coefficient=(0.25+0j)),\n",
       " PauliTerm(pauli=[<Pauli.X: 1>, <Pauli.Y: 2>], coefficient=-0.25j),\n",
       " PauliTerm(pauli=[<Pauli.Y: 2>, <Pauli.X: 1>], coefficient=0.25j),\n",
       " PauliTerm(pauli=[<Pauli.Y: 2>, <Pauli.Y: 2>], coefficient=(0.25+0j))]"
      ]
     },
     "metadata": {},
     "output_type": "display_data"
    }
   ],
   "source": [
    "from classiq import *\n",
    "\n",
    "S_minus = construct_s_minus(2)\n",
    "S_plus = S_minus.conj().T\n",
    "\n",
    "hamiltonian_S_minus = matrix_to_hamiltonian(S_minus, is_hermitian=False)\n",
    "hamiltonian_S_plus = matrix_to_hamiltonian(S_plus, is_hermitian=False)\n",
    "\n",
    "display(hamiltonian_S_minus)\n",
    "\n",
    "@qfunc\n",
    "def main( x: CReal, qba: Output[QArray[QBit]]):\n",
    "    allocate(6, qba)\n",
    "    suzuki_trotter(\n",
    "        [\n",
    "            hamiltonian_S_minus\n",
    "        ],\n",
    "        evolution_coefficient=x, #controla el tiempo  de evoluvión\n",
    "        order=1, #El orden de la aproxx\n",
    "        repetitions=1, # corresponde al N \n",
    "        qbv=qba, # registro cuatico de qbits\n",
    "    )\n",
    "\n",
    "\n",
    "qmod = create_model(main, out_file=\"suzuki_trotter_real\")\n",
    "#qprog = synthesize(qmod)\n",
    "#show(qmod)\n"
   ]
  }
 ],
 "metadata": {
  "kernelspec": {
   "display_name": "Classiq",
   "language": "python",
   "name": "python3"
  },
  "language_info": {
   "codemirror_mode": {
    "name": "ipython",
    "version": 3
   },
   "file_extension": ".py",
   "mimetype": "text/x-python",
   "name": "python",
   "nbconvert_exporter": "python",
   "pygments_lexer": "ipython3",
   "version": "3.11.2"
  }
 },
 "nbformat": 4,
 "nbformat_minor": 2
}
