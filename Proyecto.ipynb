{
 "cells": [
  {
   "cell_type": "markdown",
   "metadata": {},
   "source": [
    "# $S^{-}$ and $S^{+}$ Implementation\n",
    "\n",
    "$$\n",
    "S^{-} := \\sum_{j=1}^n I^{\\otimes(n-j)}\\otimes\\sigma_{01}\\otimes\\sigma_{10}^{\\otimes(j-1)}\n",
    "$$\n",
    "\n",
    "$$\n",
    "S^{+} := (S^-)^\\dag = \\sum_{j=1}^n I^{\\otimes(n-j)}\\otimes\\sigma_{10}\\otimes\\sigma_{01}^{\\otimes(j-1)}\n",
    "$$"
   ]
  },
  {
   "cell_type": "markdown",
   "metadata": {},
   "source": [
    "Primero se definirá las matrices sigmas y la identidad:"
   ]
  },
  {
   "cell_type": "code",
   "execution_count": 5,
   "metadata": {},
   "outputs": [],
   "source": [
    "import numpy as np\n",
    "\n",
    "# Define matrix sigma01\n",
    "sigma_01 = np.array(\n",
    "    [\n",
    "        [0, 1],\n",
    "        [0,0]\n",
    "    ]\n",
    ")\n",
    "\n",
    "#define matrix sigma10\n",
    "sigma_10 = np.array(\n",
    "    [\n",
    "        [0, 0],\n",
    "        [1,0]\n",
    "    ]\n",
    ")\n",
    "\n",
    "#define identity\n",
    "identity = np.array(\n",
    "    [\n",
    "        [1, 0],\n",
    "        [0,1]\n",
    "    ]\n",
    ")\n"
   ]
  },
  {
   "cell_type": "markdown",
   "metadata": {},
   "source": [
    "Classiq tiene una función que pasa de matrices de formato `np.array` a hamiltoniano (Justo es lo que necesitamos). Entonces definiré el operador completo usando funciones que ofrece numpy"
   ]
  },
  {
   "cell_type": "code",
   "execution_count": 11,
   "metadata": {},
   "outputs": [
    {
     "name": "stdout",
     "output_type": "stream",
     "text": [
      "Operador S^- (n = 1):\n",
      "[[0.+0.j 1.+0.j]\n",
      " [0.+0.j 0.+0.j]]\n",
      "\n",
      "Tipo de dato: <class 'numpy.ndarray'>\n"
     ]
    }
   ],
   "source": [
    "import numpy as np\n",
    "\n",
    "def construct_s_minus(n):\n",
    "    \"\"\"\n",
    "    Construye el operador S^- para n qubits.\n",
    "    \n",
    "    Args:\n",
    "        n (int): Número de qubits.\n",
    "    \n",
    "    Returns:\n",
    "        np.array: Matriz del operador S^- en el espacio de Hilbert de n qubits.\n",
    "    \"\"\"\n",
    "    dim = 2 ** n  # Dimensión del espacio de Hilbert\n",
    "    s_minus = np.zeros((dim, dim), dtype=complex)  # Inicializar el operador en ceros\n",
    "\n",
    "    # Sumar los términos de la definición\n",
    "    for j in range(1, n + 1):\n",
    "        # Construir las partes del producto tensorial\n",
    "        if n - j > 0:\n",
    "            left_identity = np.eye(2 ** (n - j))\n",
    "        else:\n",
    "            left_identity = 1  # Escalar cuando no hay identidad a la izquierda\n",
    "\n",
    "        if j - 1 > 0:\n",
    "            right_sigma_10 = sigma_10\n",
    "            for _ in range(j - 2):  # Hacer producto tensorial de σ_{10}^{⊗(j-1)}\n",
    "                right_sigma_10 = np.kron(right_sigma_10, sigma_10)\n",
    "        else:\n",
    "            right_sigma_10 = 1  # Escalar cuando no hay σ_{10} a la derecha\n",
    "\n",
    "        # Término tensorial: I^{\\otimes(n-j)} ⊗ σ_{01} ⊗ σ_{10}^{⊗(j-1)}\n",
    "        term = np.kron(\n",
    "            np.kron(left_identity, sigma_01),\n",
    "            right_sigma_10\n",
    "        )\n",
    "\n",
    "        # Sumar este término al operador S^-\n",
    "        s_minus += term\n",
    "\n",
    "    return s_minus\n",
    "\n",
    "# Ejemplo: Construir el operador S^- para n = 1 (deberia dar sigma 01)\n",
    "n = 1\n",
    "s_minus_operator = construct_s_minus(n)\n",
    "\n",
    "# Mostrar el resultado\n",
    "print(\"Operador S^- (n = {}):\".format(n))\n",
    "print(s_minus_operator)\n",
    "\n",
    "# Verificar el tipo de dato\n",
    "print(\"\\nTipo de dato:\", type(s_minus_operator))\n"
   ]
  },
  {
   "cell_type": "markdown",
   "metadata": {},
   "source": [
    "La función que pasa de matrices a hamiltonianos en Classiq es `matrix_to_hamiltonian`, realmente nose como funciona pero recomiendo usarla como caja negra"
   ]
  },
  {
   "cell_type": "code",
   "execution_count": 14,
   "metadata": {},
   "outputs": [],
   "source": [
    "from classiq import *\n",
    "\n",
    "S_minus = construct_s_minus(2)\n",
    "S_plus = S_minus.conj().T\n",
    "\n",
    "hamiltonian_S_minus = matrix_to_hamiltonian(S_minus, is_hermitian=False)\n",
    "hamiltonian_S_plus = matrix_to_hamiltonian(S_plus, is_hermitian=False)\n"
   ]
  }
 ],
 "metadata": {
  "kernelspec": {
   "display_name": "Classiq",
   "language": "python",
   "name": "python3"
  },
  "language_info": {
   "codemirror_mode": {
    "name": "ipython",
    "version": 3
   },
   "file_extension": ".py",
   "mimetype": "text/x-python",
   "name": "python",
   "nbconvert_exporter": "python",
   "pygments_lexer": "ipython3",
   "version": "3.11.2"
  }
 },
 "nbformat": 4,
 "nbformat_minor": 2
}
