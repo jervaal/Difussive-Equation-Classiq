{
 "cells": [
  {
   "cell_type": "markdown",
   "metadata": {},
   "source": [
    "# $S^{-}$ and $S^{+}$ Implementation\n",
    "\n",
    "$$\n",
    "S^{-} := \\sum_{j=1}^n I^{\\otimes(n-j)}\\otimes\\sigma_{01}\\otimes\\sigma_{10}^{\\otimes(j-1)}\n",
    "$$\n",
    "\n",
    "$$\n",
    "S^{+} := (S^-)^\\dag = \\sum_{j=1}^n I^{\\otimes(n-j)}\\otimes\\sigma_{10}\\otimes\\sigma_{01}^{\\otimes(j-1)}\n",
    "$$"
   ]
  },
  {
   "cell_type": "markdown",
   "metadata": {},
   "source": [
    "Primero se definirá las matrices sigmas y la identidad:"
   ]
  },
  {
   "cell_type": "code",
   "execution_count": 5,
   "metadata": {},
   "outputs": [],
   "source": [
    "import numpy as np\n",
    "\n",
    "# Define matrix sigma01\n",
    "sigma_01 = np.array(\n",
    "    [\n",
    "        [0, 1],\n",
    "        [0,0]\n",
    "    ]\n",
    ")\n",
    "\n",
    "#define matrix sigma10\n",
    "sigma_10 = np.array(\n",
    "    [\n",
    "        [0, 0],\n",
    "        [1,0]\n",
    "    ]\n",
    ")\n",
    "\n",
    "#define identity\n",
    "identity = np.array(\n",
    "    [\n",
    "        [1, 0],\n",
    "        [0,1]\n",
    "    ]\n",
    ")\n"
   ]
  },
  {
   "cell_type": "markdown",
   "metadata": {},
   "source": [
    "Classiq tiene una función que pasa de matrices de formato `np.array` a hamiltoniano (Justo es lo que necesitamos). Entonces definiré el operador completo usando funciones que ofrece numpy"
   ]
  },
  {
   "cell_type": "code",
   "execution_count": 11,
   "metadata": {},
   "outputs": [
    {
     "name": "stdout",
     "output_type": "stream",
     "text": [
      "Operador S^- (n = 1):\n",
      "[[0.+0.j 1.+0.j]\n",
      " [0.+0.j 0.+0.j]]\n",
      "\n",
      "Tipo de dato: <class 'numpy.ndarray'>\n"
     ]
    }
   ],
   "source": [
    "import numpy as np\n",
    "\n",
    "def construct_s_minus(n):\n",
    "    \"\"\"\n",
    "    Construye el operador S^- para n qubits.\n",
    "    \n",
    "    Args:\n",
    "        n (int): Número de qubits.\n",
    "    \n",
    "    Returns:\n",
    "        np.array: Matriz del operador S^- en el espacio de Hilbert de n qubits.\n",
    "    \"\"\"\n",
    "    dim = 2 ** n  # Dimensión del espacio de Hilbert\n",
    "    s_minus = np.zeros((dim, dim), dtype=complex)  # Inicializar el operador en ceros\n",
    "\n",
    "    # Sumar los términos de la definición\n",
    "    for j in range(1, n + 1):\n",
    "        # Construir las partes del producto tensorial\n",
    "        if n - j > 0:\n",
    "            left_identity = np.eye(2 ** (n - j))\n",
    "        else:\n",
    "            left_identity = 1  # Escalar cuando no hay identidad a la izquierda\n",
    "\n",
    "        if j - 1 > 0:\n",
    "            right_sigma_10 = sigma_10\n",
    "            for _ in range(j - 2):  # Hacer producto tensorial de σ_{10}^{⊗(j-1)}\n",
    "                right_sigma_10 = np.kron(right_sigma_10, sigma_10)\n",
    "        else:\n",
    "            right_sigma_10 = 1  # Escalar cuando no hay σ_{10} a la derecha\n",
    "\n",
    "        # Término tensorial: I^{\\otimes(n-j)} ⊗ σ_{01} ⊗ σ_{10}^{⊗(j-1)}\n",
    "        term = np.kron(\n",
    "            np.kron(left_identity, sigma_01),\n",
    "            right_sigma_10\n",
    "        )\n",
    "\n",
    "        # Sumar este término al operador S^-\n",
    "        s_minus += term\n",
    "\n",
    "    return s_minus\n",
    "\n",
    "# Ejemplo: Construir el operador S^- para n = 1 (deberia dar sigma 01)\n",
    "n = 1\n",
    "s_minus_operator = construct_s_minus(n)\n",
    "\n",
    "# Mostrar el resultado\n",
    "print(\"Operador S^- (n = {}):\".format(n))\n",
    "print(s_minus_operator)\n",
    "\n",
    "# Verificar el tipo de dato\n",
    "print(\"\\nTipo de dato:\", type(s_minus_operator))\n"
   ]
  },
  {
   "cell_type": "markdown",
   "metadata": {},
   "source": [
    "La función que pasa de matrices a hamiltonianos en Classiq es `matrix_to_hamiltonian`, realmente nose como funciona pero recomiendo usarla como caja negra"
   ]
  },
  {
   "cell_type": "code",
   "execution_count": 18,
   "metadata": {},
   "outputs": [
    {
     "name": "stderr",
     "output_type": "stream",
     "text": [
      "c:\\Users\\Lenovo\\OneDrive\\Desktop\\computacion cuantica\\Proyecto_Classiq\\Classiq\\Lib\\site-packages\\classiq\\_internals\\authentication\\token_manager.py:93: UserWarning: Overwriting an existing refresh token should only be done if it is compromised. Make sure this operation is necessary, and if not, remove the call to device registration.\n",
      "  warnings.warn(\n"
     ]
    },
    {
     "name": "stdout",
     "output_type": "stream",
     "text": [
      "Your user code: NVZP-JXRV\n",
      "If a browser doesn't automatically open, please visit this URL from any trusted device: https://auth.classiq.io/activate?user_code=NVZP-JXRV\n"
     ]
    }
   ],
   "source": [
    "authenticate(overwrite=True)"
   ]
  },
  {
   "cell_type": "code",
   "execution_count": null,
   "metadata": {},
   "outputs": [
    {
     "data": {
      "text/plain": [
       "[PauliTerm(pauli=[<Pauli.I: 0>, <Pauli.X: 1>], coefficient=(0.5+0j)),\n",
       " PauliTerm(pauli=[<Pauli.I: 0>, <Pauli.Y: 2>], coefficient=0.5j),\n",
       " PauliTerm(pauli=[<Pauli.X: 1>, <Pauli.X: 1>], coefficient=(0.25+0j)),\n",
       " PauliTerm(pauli=[<Pauli.X: 1>, <Pauli.Y: 2>], coefficient=-0.25j),\n",
       " PauliTerm(pauli=[<Pauli.Y: 2>, <Pauli.X: 1>], coefficient=0.25j),\n",
       " PauliTerm(pauli=[<Pauli.Y: 2>, <Pauli.Y: 2>], coefficient=(0.25+0j))]"
      ]
     },
     "metadata": {},
     "output_type": "display_data"
    },
    {
     "ename": "ClassiqAPIError",
     "evalue": "\n\tList '[PauliTerm(pauli=[<Pauli.I: 0>, <Pauli.X: 1>], coefficient=0.5), PauliTerm(pauli=[<Pauli.I: 0>, <Pauli.Y: 2>], coefficient=0.5*I), PauliTerm(pauli=[<Pauli.X: 1>, <Pauli.X: 1>], coefficient=0.25), PauliTerm(pauli=[<Pauli.X: 1>, <Pauli.Y: 2>], coefficient=-0.25*I), PauliTerm(pauli=[<Pauli.Y: 2>, <Pauli.X: 1>], coefficient=0.25*I), PauliTerm(pauli=[<Pauli.Y: 2>, <Pauli.Y: 2>], coefficient=0.25)]' has no attribute 'pauli'. Available attributes: len\n\t\tat file C:\\Users\\Lenovo\\AppData\\Local\\Temp\\ipykernel_30336\\886070186.py line 14 character 4 in function suzuki_trotter\n\nError identifier: E47E9986C-15AF-4615-9E78-543B4AFF260B.\nIf you need further assistance, please reach out on our Community Slack channel at: https://short.classiq.io/join-slack",
     "output_type": "error",
     "traceback": [
      "\u001b[1;31m---------------------------------------------------------------------------\u001b[0m",
      "\u001b[1;31mClassiqAPIError\u001b[0m                           Traceback (most recent call last)",
      "Cell \u001b[1;32mIn[28], line 26\u001b[0m\n\u001b[0;32m     14\u001b[0m     suzuki_trotter(\n\u001b[0;32m     15\u001b[0m         [\n\u001b[0;32m     16\u001b[0m             hamiltonian_S_minus\n\u001b[1;32m   (...)\u001b[0m\n\u001b[0;32m     21\u001b[0m         qbv\u001b[38;5;241m=\u001b[39mqba, \u001b[38;5;66;03m# registro cuatico de qbits\u001b[39;00m\n\u001b[0;32m     22\u001b[0m     )\n\u001b[0;32m     25\u001b[0m qmod \u001b[38;5;241m=\u001b[39m create_model(main, out_file\u001b[38;5;241m=\u001b[39m\u001b[38;5;124m\"\u001b[39m\u001b[38;5;124msuzuki_trotter_real\u001b[39m\u001b[38;5;124m\"\u001b[39m)\n\u001b[1;32m---> 26\u001b[0m qprog \u001b[38;5;241m=\u001b[39m \u001b[43msynthesize\u001b[49m\u001b[43m(\u001b[49m\u001b[43mqmod\u001b[49m\u001b[43m)\u001b[49m\n\u001b[0;32m     27\u001b[0m \u001b[38;5;66;03m#show(qprog)\u001b[39;00m\n",
      "File \u001b[1;32mc:\\Users\\Lenovo\\OneDrive\\Desktop\\computacion cuantica\\Proyecto_Classiq\\Classiq\\Lib\\site-packages\\classiq\\synthesis.py:85\u001b[0m, in \u001b[0;36msynthesize\u001b[1;34m(serialized_model, auto_show)\u001b[0m\n\u001b[0;32m     71\u001b[0m \u001b[38;5;28;01mdef\u001b[39;00m \u001b[38;5;21msynthesize\u001b[39m(\n\u001b[0;32m     72\u001b[0m     serialized_model: SerializedModel, auto_show: \u001b[38;5;28mbool\u001b[39m \u001b[38;5;241m=\u001b[39m \u001b[38;5;28;01mFalse\u001b[39;00m\n\u001b[0;32m     73\u001b[0m ) \u001b[38;5;241m-\u001b[39m\u001b[38;5;241m>\u001b[39m SerializedQuantumProgram:\n\u001b[0;32m     74\u001b[0m \u001b[38;5;250m    \u001b[39m\u001b[38;5;124;03m\"\"\"\u001b[39;00m\n\u001b[0;32m     75\u001b[0m \u001b[38;5;124;03m    Synthesize a model with the Classiq engine to receive a quantum program.\u001b[39;00m\n\u001b[0;32m     76\u001b[0m \u001b[38;5;124;03m    [More details](https://docs.classiq.io/latest/reference-manual/synthesis/)\u001b[39;00m\n\u001b[1;32m   (...)\u001b[0m\n\u001b[0;32m     83\u001b[0m \u001b[38;5;124;03m        SerializedQuantumProgram: Quantum program serialized as a string. (See: QuantumProgram)\u001b[39;00m\n\u001b[0;32m     84\u001b[0m \u001b[38;5;124;03m    \"\"\"\u001b[39;00m\n\u001b[1;32m---> 85\u001b[0m     result \u001b[38;5;241m=\u001b[39m \u001b[43masync_utils\u001b[49m\u001b[38;5;241;43m.\u001b[39;49m\u001b[43mrun\u001b[49m\u001b[43m(\u001b[49m\u001b[43msynthesize_async\u001b[49m\u001b[43m(\u001b[49m\u001b[43mserialized_model\u001b[49m\u001b[43m)\u001b[49m\u001b[43m)\u001b[49m\n\u001b[0;32m     86\u001b[0m     \u001b[38;5;28;01mif\u001b[39;00m auto_show:\n\u001b[0;32m     87\u001b[0m         show(result)\n",
      "File \u001b[1;32mc:\\Users\\Lenovo\\OneDrive\\Desktop\\computacion cuantica\\Proyecto_Classiq\\Classiq\\Lib\\site-packages\\classiq\\_internals\\async_utils.py:37\u001b[0m, in \u001b[0;36mrun\u001b[1;34m(coro)\u001b[0m\n\u001b[0;32m     32\u001b[0m \u001b[38;5;28;01mdef\u001b[39;00m \u001b[38;5;21mrun\u001b[39m(coro: Awaitable[T]) \u001b[38;5;241m-\u001b[39m\u001b[38;5;241m>\u001b[39m T:\n\u001b[0;32m     33\u001b[0m     \u001b[38;5;66;03m# Use this function instead of asyncio.run, since it ALWAYS\u001b[39;00m\n\u001b[0;32m     34\u001b[0m     \u001b[38;5;66;03m# creates a new event loop and clears the thread event loop.\u001b[39;00m\n\u001b[0;32m     35\u001b[0m     \u001b[38;5;66;03m# Never use asyncio.run in library code.\u001b[39;00m\n\u001b[0;32m     36\u001b[0m     loop \u001b[38;5;241m=\u001b[39m get_event_loop()\n\u001b[1;32m---> 37\u001b[0m     \u001b[38;5;28;01mreturn\u001b[39;00m \u001b[43mloop\u001b[49m\u001b[38;5;241;43m.\u001b[39;49m\u001b[43mrun_until_complete\u001b[49m\u001b[43m(\u001b[49m\u001b[43mcoro\u001b[49m\u001b[43m)\u001b[49m\n",
      "File \u001b[1;32mc:\\Users\\Lenovo\\OneDrive\\Desktop\\computacion cuantica\\Proyecto_Classiq\\Classiq\\Lib\\site-packages\\nest_asyncio.py:98\u001b[0m, in \u001b[0;36m_patch_loop.<locals>.run_until_complete\u001b[1;34m(self, future)\u001b[0m\n\u001b[0;32m     95\u001b[0m \u001b[38;5;28;01mif\u001b[39;00m \u001b[38;5;129;01mnot\u001b[39;00m f\u001b[38;5;241m.\u001b[39mdone():\n\u001b[0;32m     96\u001b[0m     \u001b[38;5;28;01mraise\u001b[39;00m \u001b[38;5;167;01mRuntimeError\u001b[39;00m(\n\u001b[0;32m     97\u001b[0m         \u001b[38;5;124m'\u001b[39m\u001b[38;5;124mEvent loop stopped before Future completed.\u001b[39m\u001b[38;5;124m'\u001b[39m)\n\u001b[1;32m---> 98\u001b[0m \u001b[38;5;28;01mreturn\u001b[39;00m \u001b[43mf\u001b[49m\u001b[38;5;241;43m.\u001b[39;49m\u001b[43mresult\u001b[49m\u001b[43m(\u001b[49m\u001b[43m)\u001b[49m\n",
      "File \u001b[1;32m~\\AppData\\Local\\Programs\\Python\\Python311\\Lib\\asyncio\\futures.py:203\u001b[0m, in \u001b[0;36mFuture.result\u001b[1;34m(self)\u001b[0m\n\u001b[0;32m    201\u001b[0m \u001b[38;5;28mself\u001b[39m\u001b[38;5;241m.\u001b[39m__log_traceback \u001b[38;5;241m=\u001b[39m \u001b[38;5;28;01mFalse\u001b[39;00m\n\u001b[0;32m    202\u001b[0m \u001b[38;5;28;01mif\u001b[39;00m \u001b[38;5;28mself\u001b[39m\u001b[38;5;241m.\u001b[39m_exception \u001b[38;5;129;01mis\u001b[39;00m \u001b[38;5;129;01mnot\u001b[39;00m \u001b[38;5;28;01mNone\u001b[39;00m:\n\u001b[1;32m--> 203\u001b[0m     \u001b[38;5;28;01mraise\u001b[39;00m \u001b[38;5;28mself\u001b[39m\u001b[38;5;241m.\u001b[39m_exception\u001b[38;5;241m.\u001b[39mwith_traceback(\u001b[38;5;28mself\u001b[39m\u001b[38;5;241m.\u001b[39m_exception_tb)\n\u001b[0;32m    204\u001b[0m \u001b[38;5;28;01mreturn\u001b[39;00m \u001b[38;5;28mself\u001b[39m\u001b[38;5;241m.\u001b[39m_result\n",
      "File \u001b[1;32m~\\AppData\\Local\\Programs\\Python\\Python311\\Lib\\asyncio\\tasks.py:267\u001b[0m, in \u001b[0;36mTask.__step\u001b[1;34m(***failed resolving arguments***)\u001b[0m\n\u001b[0;32m    263\u001b[0m \u001b[38;5;28;01mtry\u001b[39;00m:\n\u001b[0;32m    264\u001b[0m     \u001b[38;5;28;01mif\u001b[39;00m exc \u001b[38;5;129;01mis\u001b[39;00m \u001b[38;5;28;01mNone\u001b[39;00m:\n\u001b[0;32m    265\u001b[0m         \u001b[38;5;66;03m# We use the `send` method directly, because coroutines\u001b[39;00m\n\u001b[0;32m    266\u001b[0m         \u001b[38;5;66;03m# don't have `__iter__` and `__next__` methods.\u001b[39;00m\n\u001b[1;32m--> 267\u001b[0m         result \u001b[38;5;241m=\u001b[39m coro\u001b[38;5;241m.\u001b[39msend(\u001b[38;5;28;01mNone\u001b[39;00m)\n\u001b[0;32m    268\u001b[0m     \u001b[38;5;28;01melse\u001b[39;00m:\n\u001b[0;32m    269\u001b[0m         result \u001b[38;5;241m=\u001b[39m coro\u001b[38;5;241m.\u001b[39mthrow(exc)\n",
      "File \u001b[1;32mc:\\Users\\Lenovo\\OneDrive\\Desktop\\computacion cuantica\\Proyecto_Classiq\\Classiq\\Lib\\site-packages\\classiq\\synthesis.py:67\u001b[0m, in \u001b[0;36msynthesize_async\u001b[1;34m(serialized_model)\u001b[0m\n\u001b[0;32m     63\u001b[0m \u001b[38;5;28;01masync\u001b[39;00m \u001b[38;5;28;01mdef\u001b[39;00m \u001b[38;5;21msynthesize_async\u001b[39m(\n\u001b[0;32m     64\u001b[0m     serialized_model: SerializedModel,\n\u001b[0;32m     65\u001b[0m ) \u001b[38;5;241m-\u001b[39m\u001b[38;5;241m>\u001b[39m SerializedQuantumProgram:\n\u001b[0;32m     66\u001b[0m     model \u001b[38;5;241m=\u001b[39m Model\u001b[38;5;241m.\u001b[39mmodel_validate_json(serialized_model)\n\u001b[1;32m---> 67\u001b[0m     quantum_program \u001b[38;5;241m=\u001b[39m \u001b[38;5;28;01mawait\u001b[39;00m ApiWrapper\u001b[38;5;241m.\u001b[39mcall_generation_task(model)\n\u001b[0;32m     68\u001b[0m     \u001b[38;5;28;01mreturn\u001b[39;00m SerializedQuantumProgram(quantum_program\u001b[38;5;241m.\u001b[39mmodel_dump_json(indent\u001b[38;5;241m=\u001b[39m\u001b[38;5;241m2\u001b[39m))\n",
      "File \u001b[1;32mc:\\Users\\Lenovo\\OneDrive\\Desktop\\computacion cuantica\\Proyecto_Classiq\\Classiq\\Lib\\site-packages\\classiq\\_internals\\api_wrapper.py:113\u001b[0m, in \u001b[0;36mApiWrapper.call_generation_task\u001b[1;34m(cls, model)\u001b[0m\n\u001b[0;32m    111\u001b[0m poller \u001b[38;5;241m=\u001b[39m JobPoller(base_url\u001b[38;5;241m=\u001b[39mroutes\u001b[38;5;241m.\u001b[39mTASKS_GENERATE_FULL_PATH)\n\u001b[0;32m    112\u001b[0m result \u001b[38;5;241m=\u001b[39m \u001b[38;5;28;01mawait\u001b[39;00m poller\u001b[38;5;241m.\u001b[39mrun_pydantic(model, timeout_sec\u001b[38;5;241m=\u001b[39m\u001b[38;5;28;01mNone\u001b[39;00m)\n\u001b[1;32m--> 113\u001b[0m \u001b[38;5;28;01mreturn\u001b[39;00m \u001b[43m_parse_job_response\u001b[49m\u001b[43m(\u001b[49m\u001b[43mresult\u001b[49m\u001b[43m,\u001b[49m\u001b[43m \u001b[49m\u001b[43mgenerator_result\u001b[49m\u001b[38;5;241;43m.\u001b[39;49m\u001b[43mQuantumProgram\u001b[49m\u001b[43m)\u001b[49m\n",
      "File \u001b[1;32mc:\\Users\\Lenovo\\OneDrive\\Desktop\\computacion cuantica\\Proyecto_Classiq\\Classiq\\Lib\\site-packages\\classiq\\_internals\\api_wrapper.py:60\u001b[0m, in \u001b[0;36m_parse_job_response\u001b[1;34m(job_result, output_type)\u001b[0m\n\u001b[0;32m     58\u001b[0m     \u001b[38;5;28;01mreturn\u001b[39;00m output_type\u001b[38;5;241m.\u001b[39mmodel_validate(job_result\u001b[38;5;241m.\u001b[39mresult)\n\u001b[0;32m     59\u001b[0m \u001b[38;5;28;01mif\u001b[39;00m job_result\u001b[38;5;241m.\u001b[39mfailure_details:\n\u001b[1;32m---> 60\u001b[0m     \u001b[38;5;28;01mraise\u001b[39;00m ClassiqAPIError(job_result\u001b[38;5;241m.\u001b[39mfailure_details)\n\u001b[0;32m     62\u001b[0m \u001b[38;5;28;01mraise\u001b[39;00m ClassiqAPIError(\u001b[38;5;124m\"\u001b[39m\u001b[38;5;124mUnexpected response from server\u001b[39m\u001b[38;5;124m\"\u001b[39m)\n",
      "\u001b[1;31mClassiqAPIError\u001b[0m: \n\tList '[PauliTerm(pauli=[<Pauli.I: 0>, <Pauli.X: 1>], coefficient=0.5), PauliTerm(pauli=[<Pauli.I: 0>, <Pauli.Y: 2>], coefficient=0.5*I), PauliTerm(pauli=[<Pauli.X: 1>, <Pauli.X: 1>], coefficient=0.25), PauliTerm(pauli=[<Pauli.X: 1>, <Pauli.Y: 2>], coefficient=-0.25*I), PauliTerm(pauli=[<Pauli.Y: 2>, <Pauli.X: 1>], coefficient=0.25*I), PauliTerm(pauli=[<Pauli.Y: 2>, <Pauli.Y: 2>], coefficient=0.25)]' has no attribute 'pauli'. Available attributes: len\n\t\tat file C:\\Users\\Lenovo\\AppData\\Local\\Temp\\ipykernel_30336\\886070186.py line 14 character 4 in function suzuki_trotter\n\nError identifier: E47E9986C-15AF-4615-9E78-543B4AFF260B.\nIf you need further assistance, please reach out on our Community Slack channel at: https://short.classiq.io/join-slack"
     ]
    }
   ],
   "source": [
    "from classiq import *\n",
    "\n",
    "S_minus = construct_s_minus(2)\n",
    "S_plus = S_minus.conj().T\n",
    "\n",
    "hamiltonian_S_minus = matrix_to_hamiltonian(S_minus, is_hermitian=False)\n",
    "hamiltonian_S_plus = matrix_to_hamiltonian(S_plus, is_hermitian=False)\n",
    "\n",
    "display(hamiltonian_S_minus)\n",
    "\n",
    "@qfunc\n",
    "def main( x: CReal, qba: Output[QArray[QBit]]):\n",
    "    allocate(6, qba)\n",
    "    suzuki_trotter(\n",
    "        [\n",
    "            hamiltonian_S_minus\n",
    "        ],\n",
    "        evolution_coefficient=x, #controla el tiempo  de evoluvión\n",
    "        order=1, #El orden de la aproxx\n",
    "        repetitions=1, # corresponde al N \n",
    "        qbv=qba, # registro cuatico de qbits\n",
    "    )\n",
    "\n",
    "\n",
    "qmod = create_model(main, out_file=\"suzuki_trotter_real\")\n",
    "qprog = synthesize(qmod)\n",
    "#show(qprog)\n"
   ]
  }
 ],
 "metadata": {
  "kernelspec": {
   "display_name": "Classiq",
   "language": "python",
   "name": "python3"
  },
  "language_info": {
   "codemirror_mode": {
    "name": "ipython",
    "version": 3
   },
   "file_extension": ".py",
   "mimetype": "text/x-python",
   "name": "python",
   "nbconvert_exporter": "python",
   "pygments_lexer": "ipython3",
   "version": "3.11.2"
  }
 },
 "nbformat": 4,
 "nbformat_minor": 2
}
