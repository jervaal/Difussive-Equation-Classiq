{
 "cells": [
  {
   "cell_type": "markdown",
   "metadata": {},
   "source": [
    "## Circuit\n",
    "\n",
    "Cuadernillo que tiene como objetivo montar el circuito cuantico necesario para el proyecto. \n",
    "\n",
    "\n",
    "Primero el obteivo será implementar los circuitos de la Fig1"
   ]
  },
  {
   "cell_type": "code",
   "execution_count": 143,
   "metadata": {},
   "outputs": [],
   "source": [
    "from classiq import *\n",
    "\n",
    "authenticate(overwrite=True)"
   ]
  },
  {
   "cell_type": "markdown",
   "metadata": {},
   "source": [
    "Parametros seteados:\n",
    "\n",
    "$$\n",
    "\\gamma = \\frac{1}{2l}\\quad,\\quad\\lambda_\\alpha=\\frac{-\\pi}{2}\\quad,\\quad \\eta_\\alpha = \\nu_\\alpha\n",
    "$$\n",
    "\n",
    "Tambien el intervalo\n",
    "\n",
    "$$\n",
    "l = \\frac{L}{N+1}\n",
    "$$"
   ]
  },
  {
   "cell_type": "markdown",
   "metadata": {},
   "source": [
    "El observable será\n",
    "\n",
    "$$\n",
    "O = \\frac{1}{2}(Z+I)\\otimes I^{\\otimes n}\n",
    "$$"
   ]
  },
  {
   "cell_type": "code",
   "execution_count": 254,
   "metadata": {},
   "outputs": [
    {
     "ename": "SyntaxError",
     "evalue": "unmatched ')' (2318871729.py, line 8)",
     "output_type": "error",
     "traceback": [
      "\u001b[1;36m  Cell \u001b[1;32mIn[254], line 8\u001b[1;36m\u001b[0m\n\u001b[1;33m    taus = np.linspace(0.0, T_final, dt)t)\u001b[0m\n\u001b[1;37m                                         ^\u001b[0m\n\u001b[1;31mSyntaxError\u001b[0m\u001b[1;31m:\u001b[0m unmatched ')'\n"
     ]
    }
   ],
   "source": [
    "import numpy as np\n",
    "#Funcion que intentará definir la accion del operador U\n",
    "@qfunc\n",
    "def main(reg: Output[QArray]):\n",
    "    v = 1.0 # eventualmente esto puede variar\n",
    "    T_final = 11.0   \n",
    "    dt = 0.05\n",
    "    taus = np.linspace(0.0, T_final, dt)t)\n",
    "    tau = taus[0].tolist()\n",
    "\n",
    "    #considerar vel arbitraria en un futuro:\n",
    "    # ponderar por v * tau * gamma\n",
    "    # \n",
    "    L = \n",
    "\n",
    "     3 dim    _lattice = 2 ** n\n",
    "\n",
    "    l = L/(dim_lattice + 1)\n",
    "\n",
    "\n",
    "    gamma = 1/(2*l)\n",
    "\n",
    "    theta = tau * gamma * v# Definir angulo de la MC-RZ\n",
    "    n = 5.0 #Num trotter step\n",
    "    \n",
    "    landa = -np.pi/2 #definir\n",
    "\n",
    "    #estado inicial:\n",
    "    # |u(t)> = sum u_j |j> ### j_{0}^{2**j - 1}\n",
    "    allocate(n, reg)\n",
    "\n",
    "    #crear lattice\n",
    "    dim_lattice = 2 ** n\n",
    "    x = np.linspace(0, L, num= dim_lattice)\n",
    "\n",
    "    # phi(0, x) = 1 if 1<x<2, and 0 else\n",
    "    def phi_0(x):\n",
    "        return np.where((1 < x) & (x < 2), 1.0, 0.0)\n",
    "\n",
    "    #norm\n",
    "    u = phi_0(x)\n",
    "    u /= np.linalg.norm(u)  \n",
    "    prob =  u.tolist()\n",
    "    \n",
    "    inplace_prepare_amplitudes(amplitudes= prob, bound= 0,target=reg)\n",
    "    \n",
    "    \n",
    "    #prepare_arbitrary_state(state=prob, num_qubits=n)\n",
    "\n",
    "    \n",
    "    #Generar V:\n",
    "\n",
    "    #seria generar la U_\n",
    "    for j in range(1, n+1):\n",
    "        \n",
    "        \n",
    "  for i in range(j-1): # Genera las primeras cnots\n",
    "            CX(ctrl=reg[j-1], target= reg[i])\n",
    "        \n",
    "\n",
    "        PHASE(-landa, reg[j-1])\n",
    "        H(reg[j-1])\n",
    "        \n",
    "        #multi control RZ:\n",
    "        if j-1 == 0:\n",
    "            RZ(theta, reg[j-1])\n",
    "            pass\n",
    "        \n",
    "\n",
    "        else:\n",
    "            control(reg[0: j-1], lambda: RZ(theta, reg[j-1]))\n",
    "            pass\n",
    "\n",
    "\n",
    "        H(reg[j-1])\n",
    "        PHASE(landa, reg[j-1])\n",
    "\n",
    "        # Genera las ultimas cnots\n",
    "        for i in range(j-2, -1, -1):\n",
    "            CX(ctrl=reg[j-1], target= reg[i])\n",
    "\n",
    "    \n",
    "\n",
    "\n",
    "qmod = create_model(main, out_file= 'circuito')\n",
    "qprog = synthesize(qmod, auto_show=True)"
   ]
  },
  {
   "cell_type": "markdown",
   "metadata": {},
   "source": [
    "El cirucito anterior es el llamado $V(\\gamma\\tau,\\lambda)$. Este circuito cumple con lo siguiente:\n",
    "\n",
    "$$\n",
    "V(\\gamma\\tau,\\lambda) \\approx exp(-iH\\tau)\n",
    "$$\n",
    "\n",
    "El error asociado está dado por:\n",
    "\n",
    "$$\n",
    "||exp(iH\\tau) - V(\\gamma\\tau, \\lambda)|| \\leq \\frac{\\gamma^2\\tau^2(n-1)}{2}\n",
    "$$"
   ]
  },
  {
   "cell_type": "code",
   "execution_count": null,
   "metadata": {},
   "outputs": [],
   "source": [
    "    # Creacion del observable\n",
    "    # O = (Z + I) tensor I^n\n",
    "\n",
    "    # Definir matrices Pauli Z y la identidad I\n",
    "    Z = np.array([[1, 0], [0, -1]])  # Matriz de Pauli Z\n",
    "    I = np.eye(2)  # Matriz identidad de 2x2\n",
    "\n",
    "    # Construir (Z + I)\n",
    "    Z_plus_I = Z + I\n",
    "\n",
    "    # Construir I^{\\otimes n} (producto tensorial de I consigo misma n veces)\n",
    "    I_tensor_n = np.eye(2 ** (n - 1))  # Identidad de dimensión 2^n x 2^n\n",
    "\n",
    "    # Calcular O = (1/2) * (Z + I) ⊗ I^{⊗ n}\n",
    "    O = 0.5 * np.kron(Z_plus_I, I_tensor_n)"
   ]
  }
 ],
 "metadata": {
  "kernelspec": {
   "display_name": "CLASSIQ",
   "language": "python",
   "name": "python3"
  },
  "language_info": {
   "codemirror_mode": {
    "name": "ipython",
    "version": 3
   },
   "file_extension": ".py",
   "mimetype": "text/x-python",
   "name": "python",
   "nbconvert_exporter": "python",
   "pygments_lexer": "ipython3",
   "version": "3.11.2"
  }
 },
 "nbformat": 4,
 "nbformat_minor": 2
}
