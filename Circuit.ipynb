{
 "cells": [
  {
   "cell_type": "markdown",
   "metadata": {},
   "source": [
    "## Circuit\n",
    "\n",
    "Cuadernillo que tiene como objetivo montar el circuito cuantico necesario para el proyecto. \n",
    "\n",
    "\n",
    "Primero el obteivo será implementar los circuitos de la Fig1"
   ]
  },
  {
   "cell_type": "code",
   "execution_count": 24,
   "metadata": {},
   "outputs": [
    {
     "name": "stderr",
     "output_type": "stream",
     "text": [
      "c:\\USERS\\LENOVO\\ONEDRIVE\\DESKTOP\\COMPUTACION CUANTICA\\PROYECTO_CLASSIQ\\CLASSIQ\\Lib\\site-packages\\classiq\\_internals\\authentication\\token_manager.py:93: UserWarning: Overwriting an existing refresh token should only be done if it is compromised. Make sure this operation is necessary, and if not, remove the call to device registration.\n",
      "  warnings.warn(\n"
     ]
    },
    {
     "name": "stdout",
     "output_type": "stream",
     "text": [
      "Your user code: VSTH-JGCH\n",
      "If a browser doesn't automatically open, please visit this URL from any trusted device: https://auth.classiq.io/activate?user_code=VSTH-JGCH\n"
     ]
    }
   ],
   "source": [
    "from classiq import *\n",
    "\n",
    "authenticate(overwrite=True)"
   ]
  },
  {
   "cell_type": "markdown",
   "metadata": {},
   "source": [
    "Parametros seteados:\n",
    "\n",
    "$$\n",
    "\\gamma = \\frac{1}{2l}\\quad,\\quad\\lambda_\\alpha=\\frac{-\\pi}{2}\\quad,\\quad \\eta_\\alpha = \\nu_\\alpha\n",
    "$$"
   ]
  },
  {
   "cell_type": "code",
   "execution_count": null,
   "metadata": {},
   "outputs": [
    {
     "name": "stdout",
     "output_type": "stream",
     "text": [
      "Opening: https://platform.classiq.io/circuit/b0c5730a-0770-47db-a045-240f1a9bd451?version=0.59.0\n"
     ]
    }
   ],
   "source": [
    "import numpy as np\n",
    "#Funcion que intentará definir la accion del operador U\n",
    "@qfunc\n",
    "def W(reg: Output[QArray]):\n",
    "    j = 10 #Acá definir j\n",
    "    theta = 0 # Definir angulo de la\n",
    "    landa = -np.pi/2 #definir ángulo de la Phase gate\n",
    "    allocate(j, reg)\n",
    "    for i in range(j-1):\n",
    "        CX(ctrl=reg[j-1], target= reg[i])\n",
    "    \n",
    "    PHASE(-landa, reg[j-1])\n",
    "\n",
    "    H(reg[j-1])\n",
    "\n",
    "    # Acá deberia estar la CRZ\n",
    "    \"\"\"\"\n",
    "    for i in range(j-1):\n",
    "        RZ(theta/2, reg[j-1])\n",
    "        CX(ctrl=reg[i], target= reg[j-1])\n",
    "        RZ(-theta/2, reg[j-1])\n",
    "        CX(ctrl=reg[i], target= reg[j-1])\n",
    "    \"\"\"\n",
    "    H(reg[j-1])\n",
    "    PHASE(landa, reg[j-1])\n",
    "    for i in range(j-2, -1, -1):\n",
    "        CX(ctrl=reg[j-1], target= reg[i])\n",
    "\n",
    "\n",
    "    \n",
    "qprog = synthesize(create_model(main))\n",
    "\n",
    "job = execute(qprog)\n",
    "#Para ver el resultado en la pagina oficial \n",
    "\n",
    "show(qprog)\n",
    "\n"
   ]
  },
  {
   "cell_type": "code",
   "execution_count": 64,
   "metadata": {},
   "outputs": [
    {
     "name": "stdout",
     "output_type": "stream",
     "text": [
      "0\n",
      "1\n",
      "2\n",
      "3\n",
      "4\n",
      "5\n",
      "6\n",
      "7\n",
      "8\n",
      "\n",
      "8\n",
      "7\n",
      "6\n",
      "5\n",
      "4\n",
      "3\n",
      "2\n",
      "1\n",
      "0\n"
     ]
    }
   ],
   "source": [
    "j=10\n",
    "for n in range(j-1):\n",
    "    print(n)\n",
    "print(\"\") \n",
    "for n in range(j-2, -1, -1):\n",
    "    print(n)\n",
    "    "
   ]
  },
  {
   "cell_type": "code",
   "execution_count": 51,
   "metadata": {},
   "outputs": [
    {
     "name": "stdout",
     "output_type": "stream",
     "text": [
      "Opening: https://platform.classiq.io/circuit/f568b5f4-849f-485b-9b71-4d928848486d?version=0.59.0\n"
     ]
    }
   ],
   "source": [
    "from classiq import *\n",
    "\n",
    "\n",
    "@qfunc\n",
    "def main(cntrl: Output[QArray[QBit]], target: Output[QBit]) -> None:\n",
    "    allocate(7, cntrl)\n",
    "    allocate(1, target)\n",
    "    control(ctrl=cntrl, stmt_block=lambda: RZ(0,target))\n",
    "\n",
    "qmod = create_model(main)\n",
    "qprog = synthesize(qmod,auto_show=True)"
   ]
  }
 ],
 "metadata": {
  "kernelspec": {
   "display_name": "CLASSIQ",
   "language": "python",
   "name": "python3"
  },
  "language_info": {
   "codemirror_mode": {
    "name": "ipython",
    "version": 3
   },
   "file_extension": ".py",
   "mimetype": "text/x-python",
   "name": "python",
   "nbconvert_exporter": "python",
   "pygments_lexer": "ipython3",
   "version": "3.11.2"
  }
 },
 "nbformat": 4,
 "nbformat_minor": 2
}
