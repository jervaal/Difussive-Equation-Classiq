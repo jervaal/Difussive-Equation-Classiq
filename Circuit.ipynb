{
 "cells": [
  {
   "cell_type": "markdown",
   "metadata": {},
   "source": [
    "## Circuit\n",
    "\n",
    "Cuadernillo que tiene como objetivo montar el circuito cuantico necesario para el proyecto. \n",
    "\n",
    "\n",
    "Primero el obteivo será implementar los circuitos de la Fig1"
   ]
  },
  {
   "cell_type": "code",
   "execution_count": 24,
   "metadata": {},
   "outputs": [
    {
     "name": "stderr",
     "output_type": "stream",
     "text": [
      "c:\\USERS\\LENOVO\\ONEDRIVE\\DESKTOP\\COMPUTACION CUANTICA\\PROYECTO_CLASSIQ\\CLASSIQ\\Lib\\site-packages\\classiq\\_internals\\authentication\\token_manager.py:93: UserWarning: Overwriting an existing refresh token should only be done if it is compromised. Make sure this operation is necessary, and if not, remove the call to device registration.\n",
      "  warnings.warn(\n"
     ]
    },
    {
     "name": "stdout",
     "output_type": "stream",
     "text": [
      "Your user code: VSTH-JGCH\n",
      "If a browser doesn't automatically open, please visit this URL from any trusted device: https://auth.classiq.io/activate?user_code=VSTH-JGCH\n"
     ]
    }
   ],
   "source": [
    "from classiq import *\n",
    "\n",
    "authenticate(overwrite=True)"
   ]
  },
  {
   "cell_type": "markdown",
   "metadata": {},
   "source": [
    "Parametros seteados:\n",
    "\n",
    "$$\n",
    "\\gamma = \\frac{1}{2l}\\quad,\\quad\\lambda_\\alpha=\\frac{-\\pi}{2}\\quad,\\quad \\eta_\\alpha = \\nu_\\alpha\n",
    "$$"
   ]
  },
  {
   "cell_type": "code",
   "execution_count": 137,
   "metadata": {},
   "outputs": [
    {
     "name": "stdout",
     "output_type": "stream",
     "text": [
      "Opening: https://platform.classiq.io/circuit/d46eb3cc-3d70-4d76-98ff-8bcd4e904e03?version=0.59.0\n"
     ]
    }
   ],
   "source": [
    "import numpy as np\n",
    "#Funcion que intentará definir la accion del operador U\n",
    "@qfunc\n",
    "def main(reg: Output[QArray]):\n",
    "    j = 10 \n",
    "    theta = 0 # Definir angulo de la\n",
    "    landa = -np.pi/2 #definir ángulo de la Phase gate\n",
    "    allocate(j, reg)\n",
    "    for j in range(1, j+1):\n",
    "        for i in range(j-1):\n",
    "            CX(ctrl=reg[j-1], target= reg[i])\n",
    "        \n",
    "        PHASE(-landa, reg[j-1])\n",
    "\n",
    "        H(reg[j-1])\n",
    "\n",
    "        # Acá deberia estar la CRZ\n",
    "        \"\"\"\"\n",
    "        for i in range(j-1):\n",
    "            RZ(theta/2, reg[j-1])\n",
    "            CX(ctrl=reg[i], target= reg[j-1])\n",
    "            RZ(-theta/2, reg[j-1])\n",
    "            CX(ctrl=reg[i], target= reg[j-1])\n",
    "        \"\"\"\n",
    "        H(reg[j-1])\n",
    "        PHASE(landa, reg[j-1])\n",
    "        for i in range(j-2, -1, -1):\n",
    "            CX(ctrl=reg[j-1], target= reg[i])\n",
    "\n",
    "\n",
    "qmod = create_model(main)\n",
    "qprog = synthesize(qmod, auto_show=True)\n",
    "\n"
   ]
  }
 ],
 "metadata": {
  "kernelspec": {
   "display_name": "CLASSIQ",
   "language": "python",
   "name": "python3"
  },
  "language_info": {
   "codemirror_mode": {
    "name": "ipython",
    "version": 3
   },
   "file_extension": ".py",
   "mimetype": "text/x-python",
   "name": "python",
   "nbconvert_exporter": "python",
   "pygments_lexer": "ipython3",
   "version": "3.11.2"
  }
 },
 "nbformat": 4,
 "nbformat_minor": 2
}
